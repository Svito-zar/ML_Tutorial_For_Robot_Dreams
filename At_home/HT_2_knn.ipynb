{
 "cells": [
  {
   "cell_type": "markdown",
   "metadata": {},
   "source": [
    "# Домашнее Задание 2: Метод к-ближайших соседей"
   ]
  },
  {
   "cell_type": "code",
   "execution_count": 1,
   "metadata": {},
   "outputs": [],
   "source": [
    "# В этом задании вы примените метод к-ближайших соседей на интерестном датасете и сравните его с регрессией"
   ]
  },
  {
   "cell_type": "code",
   "execution_count": 2,
   "metadata": {},
   "outputs": [],
   "source": [
    "# ВАШЕ ИМЯ: "
   ]
  },
  {
   "cell_type": "markdown",
   "metadata": {},
   "source": [
    "## Загружаем библиотеки"
   ]
  },
  {
   "cell_type": "code",
   "execution_count": 3,
   "metadata": {},
   "outputs": [],
   "source": [
    "import numpy as np\n",
    "import pandas as pd\n",
    "from pandas.api.types import is_numeric_dtype\n",
    "import requests\n",
    "import csv\n",
    "import matplotlib.pyplot as plt\n",
    "%matplotlib inline\n",
    "import seaborn as sns\n",
    "\n",
    "from sklearn.linear_model import LinearRegression\n",
    "from sklearn.preprocessing import PolynomialFeatures\n",
    "from sklearn.linear_model import LogisticRegression\n",
    "from sklearn.neighbors import KNeighborsRegressor, KNeighborsClassifier\n",
    "from sklearn.model_selection import train_test_split\n",
    "from sklearn import datasets\n",
    "from sklearn.metrics import mean_squared_error, r2_score\n",
    "from sklearn.pipeline import make_pipeline\n",
    "\n",
    "from sklearn.metrics import accuracy_score, f1_score, precision_score, recall_score\n",
    "\n",
    "from scipy import stats\n",
    "from scipy.interpolate import interp1d\n",
    "from scipy import optimize\n",
    "\n",
    "import csv"
   ]
  },
  {
   "cell_type": "markdown",
   "metadata": {},
   "source": [
    "## Задание 1 : Загрузить и проанализировать датасет о Uplift Modeling: предсказание, конвертируется ли потенциальный клиент после просмотра рекламы (20 балов)"
   ]
  },
  {
   "cell_type": "code",
   "execution_count": 4,
   "metadata": {},
   "outputs": [],
   "source": [
    "# Uplift modeling - https://en.wikipedia.org/wiki/Uplift_modelling\n",
    "\n",
    "# Dataset: 13M столбцов - https://www.kaggle.com/arashnic/uplift-modeling\n",
    "# укороченый вариант из 100К столбцов - https://kth.box.com/s/e824llbenmcwez1hel4q044lrkacomdj\n",
    "df = pd.read_csv('/home/tarask/Downloads/archive/criteo-uplift-v2.1.csv')"
   ]
  },
  {
   "cell_type": "code",
   "execution_count": null,
   "metadata": {},
   "outputs": [],
   "source": [
    "df.columns"
   ]
  },
  {
   "cell_type": "markdown",
   "metadata": {},
   "source": [
    "### Выбрать фичи f_i для предсказания \"conversion\""
   ]
  },
  {
   "cell_type": "code",
   "execution_count": 4,
   "metadata": {
    "scrolled": true
   },
   "outputs": [],
   "source": [
    "# посчитать корреляцию\n",
    "\n",
    "# выбрать лучшие фичи"
   ]
  },
  {
   "cell_type": "markdown",
   "metadata": {},
   "source": [
    "## Найти и убрать outlier"
   ]
  },
  {
   "cell_type": "code",
   "execution_count": 5,
   "metadata": {},
   "outputs": [],
   "source": [
    "# Найти outlier\n",
    "\n",
    "\n",
    "# Убрать outlier"
   ]
  },
  {
   "cell_type": "markdown",
   "metadata": {},
   "source": [
    "## Нормализовать дата"
   ]
  },
  {
   "cell_type": "code",
   "execution_count": null,
   "metadata": {},
   "outputs": [],
   "source": []
  },
  {
   "cell_type": "markdown",
   "metadata": {},
   "source": [
    "## Разделить дата на выборки"
   ]
  },
  {
   "cell_type": "code",
   "execution_count": null,
   "metadata": {},
   "outputs": [],
   "source": [
    "# 20% данных будем использовать как validation dataset\n",
    "val_size = 0.2\n",
    "\n",
    "X_train, X_val, y_train, y_val = train_test_split(x_data, y_data, test_size=val_size, shuffle=True)\n",
    "print('Data points in train set: {0}.'.format(len(X_train)))\n",
    "print('Data points in val set: {0}.'.format(len(X_val)))\n",
    "print(\"Shape of features in training data: {}\".format(X_train.shape))\n",
    "print(\"Shape of output in training data: {}\".format(y_train.shape))\n",
    "print(\"Shape of features in val data: {}\".format(X_val.shape))\n",
    "print(\"Shape of output in val data: {}\".format(y_val.shape))"
   ]
  },
  {
   "cell_type": "markdown",
   "metadata": {},
   "source": [
    "## Задание 2 Применить метод К-ближайших соседей (10 балов)"
   ]
  },
  {
   "cell_type": "code",
   "execution_count": null,
   "metadata": {},
   "outputs": [],
   "source": [
    "# Потроим \"модель\"\n",
    "# https://scikit-learn.org/stable/modules/generated/sklearn.neighbors.KNeighborsClassifier.html\n",
    "\n",
    "\n",
    "# Применяем\n",
    "\n",
    "\n",
    "# Посчитаем качество прогнозов\n",
    "acc_sc = accuracy_score(y_val, y_pred) \n",
    "print(\"Acc:\", acc_sc)\n",
    "\n",
    "# https://en.wikipedia.org/wiki/Precision_and_recall\n",
    "prec = precision_score(y_val, y_pred)\n",
    "print(\"Prec:\", prec)\n",
    "\n",
    "rec = recall_score(y_val, y_pred)\n",
    "print(\"Rec:\", rec)\n",
    "\n",
    "# https://en.wikipedia.org/wiki/F-score\n",
    "f1_sc = f1_score(y_val, y_pred)\n",
    "print(\"F1 score: \", f1_sc)"
   ]
  },
  {
   "cell_type": "markdown",
   "metadata": {},
   "source": [
    "## Задание 3 : Проанализировать оптимальное значение параметра К (20 балов)"
   ]
  },
  {
   "cell_type": "code",
   "execution_count": 6,
   "metadata": {},
   "outputs": [],
   "source": [
    "# Попробовать разные значения К и сохранить результаты"
   ]
  },
  {
   "cell_type": "code",
   "execution_count": 7,
   "metadata": {},
   "outputs": [],
   "source": [
    "# Построить график Коэффициент детерминации в зависимости от К\n"
   ]
  },
  {
   "cell_type": "code",
   "execution_count": 8,
   "metadata": {},
   "outputs": [],
   "source": [
    "# Наблюдаем ли мы overfitting? почему?"
   ]
  },
  {
   "cell_type": "markdown",
   "metadata": {},
   "source": [
    "## Задание 4 : Сравнить результат метода К-ближайших соседей и полиномиальной регрессии (20 балов)"
   ]
  },
  {
   "cell_type": "code",
   "execution_count": 9,
   "metadata": {},
   "outputs": [],
   "source": [
    "# 4.1 Применить полиномиальную регрессию на том же датасете"
   ]
  },
  {
   "cell_type": "code",
   "execution_count": 10,
   "metadata": {},
   "outputs": [],
   "source": [
    "# 4.2 Найти наилучшую степень полинома\n"
   ]
  },
  {
   "cell_type": "code",
   "execution_count": 11,
   "metadata": {},
   "outputs": [],
   "source": [
    "# 4.3 сравнить коэффициент детерминации регрессии и метода К-ближайших соседей"
   ]
  },
  {
   "cell_type": "code",
   "execution_count": 12,
   "metadata": {},
   "outputs": [],
   "source": [
    "# 4.4 В каких случаях лучше использовать полиномиальную регресию, а когда - метод К-следних"
   ]
  }
 ],
 "metadata": {
  "anaconda-cloud": {},
  "kernelspec": {
   "display_name": "ml_env",
   "language": "python",
   "name": "ml_env"
  },
  "language_info": {
   "codemirror_mode": {
    "name": "ipython",
    "version": 3
   },
   "file_extension": ".py",
   "mimetype": "text/x-python",
   "name": "python",
   "nbconvert_exporter": "python",
   "pygments_lexer": "ipython3",
   "version": "3.6.9"
  }
 },
 "nbformat": 4,
 "nbformat_minor": 2
}
