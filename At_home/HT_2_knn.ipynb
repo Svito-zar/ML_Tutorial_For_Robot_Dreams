{
 "cells": [
  {
   "cell_type": "markdown",
   "metadata": {},
   "source": [
    "# Домашнее Задание 2: Метод к-ближайших соседей"
   ]
  },
  {
   "cell_type": "code",
   "execution_count": 1,
   "metadata": {},
   "outputs": [],
   "source": [
    "# В этом задании вы примените метод к-ближайших соседей на интерестном датасете и сравните его с регрессией"
   ]
  },
  {
   "cell_type": "code",
   "execution_count": 2,
   "metadata": {},
   "outputs": [],
   "source": [
    "# ВАШЕ ИМЯ: "
   ]
  },
  {
   "cell_type": "markdown",
   "metadata": {},
   "source": [
    "## Загружаем библиотеки"
   ]
  },
  {
   "cell_type": "code",
   "execution_count": 3,
   "metadata": {},
   "outputs": [],
   "source": [
    "import numpy as np\n",
    "import pandas as pd\n",
    "from pandas.api.types import is_numeric_dtype\n",
    "import requests\n",
    "import csv\n",
    "import matplotlib.pyplot as plt\n",
    "%matplotlib inline\n",
    "import seaborn as sns\n",
    "\n",
    "from sklearn.linear_model import LinearRegression\n",
    "from sklearn.preprocessing import PolynomialFeatures\n",
    "from sklearn.linear_model import LogisticRegression\n",
    "from sklearn.neighbors import KNeighborsRegressor, KNeighborsClassifier\n",
    "from sklearn.model_selection import train_test_split\n",
    "from sklearn import datasets\n",
    "from sklearn.metrics import mean_squared_error, r2_score\n",
    "from sklearn.pipeline import make_pipeline\n",
    "\n",
    "from sklearn.metrics import accuracy_score, f1_score, precision_score, recall_score\n",
    "\n",
    "from scipy import stats\n",
    "from scipy.interpolate import interp1d\n",
    "from scipy import optimize\n",
    "\n",
    "import csv"
   ]
  },
  {
   "cell_type": "markdown",
   "metadata": {},
   "source": [
    "## Загружаем и анализируем датасет о предсказании \"Churn\", т.е. отказа от услуг (когда клиент перестает быть клиентом)"
   ]
  },
  {
   "cell_type": "code",
   "execution_count": 4,
   "metadata": {},
   "outputs": [],
   "source": [
    "# https://en.wikipedia.org/wiki/Churn_rate\n",
    "data_file = \"../data/Telco_customer_churn_2020.csv\"\n",
    "df = pd.read_csv(data_file, encoding = \"utf-8\" , engine='python')\n",
    "\n",
    "print(df.columns)\n",
    "print(df.shape)"
   ]
  },
  {
   "cell_type": "markdown",
   "metadata": {},
   "source": [
    "### Обработайте датасет как в 1м задании ( можно просто взять код оттуда)"
   ]
  },
  {
   "cell_type": "code",
   "execution_count": 4,
   "metadata": {
    "scrolled": true
   },
   "outputs": [],
   "source": [
    "# Оставить только числа (убрать все не цифровые столбцы)\n",
    "\n",
    "# выбрать лучшие фичи для предсказания \n",
    "\n",
    "# Найти и убрать outlier\n",
    "\n",
    "# Нормализировать данные\n",
    "\n",
    "# Разделить датасет на ТРИ части: трен., утвержд. и тестовую"
   ]
  },
  {
   "cell_type": "markdown",
   "metadata": {},
   "source": [
    "## Задание 1 Применить метод К-ближайших соседей (20 балов)"
   ]
  },
  {
   "cell_type": "code",
   "execution_count": null,
   "metadata": {},
   "outputs": [],
   "source": [
    "# Потроим \"модель\"\n",
    "# https://scikit-learn.org/stable/modules/generated/sklearn.neighbors.KNeighborsClassifier.html\n",
    "\n",
    "\n",
    "# Применяем\n",
    "\n",
    "\n",
    "# Посчитаем качество прогнозов\n",
    "acc_sc = accuracy_score(y_val, y_pred) \n",
    "print(\"Acc:\", acc_sc)\n",
    "\n",
    "# https://en.wikipedia.org/wiki/Precision_and_recall\n",
    "prec = precision_score(y_val, y_pred)\n",
    "print(\"Prec:\", prec)\n",
    "\n",
    "rec = recall_score(y_val, y_pred)\n",
    "print(\"Rec:\", rec)\n",
    "\n",
    "# https://en.wikipedia.org/wiki/F-score\n",
    "f1_sc = f1_score(y_val, y_pred)\n",
    "print(\"F1 score: \", f1_sc)"
   ]
  },
  {
   "cell_type": "markdown",
   "metadata": {},
   "source": [
    "## Задание 2 : Проанализировать оптимальное значение параметра К (20 балов)"
   ]
  },
  {
   "cell_type": "code",
   "execution_count": 6,
   "metadata": {},
   "outputs": [],
   "source": [
    "# Попробовать разные значения К и сохранить результаты"
   ]
  },
  {
   "cell_type": "code",
   "execution_count": 7,
   "metadata": {},
   "outputs": [],
   "source": [
    "# Построить график f1-score в зависимости от К\n"
   ]
  },
  {
   "cell_type": "code",
   "execution_count": 8,
   "metadata": {},
   "outputs": [],
   "source": [
    "# Наблюдаем ли мы overfitting? почему?"
   ]
  },
  {
   "cell_type": "markdown",
   "metadata": {},
   "source": [
    "## Задание 3 : Сравнить результат метода К-ближайших соседей и полиномиальной регрессии (20 балов)"
   ]
  },
  {
   "cell_type": "code",
   "execution_count": 9,
   "metadata": {},
   "outputs": [],
   "source": [
    "# 4.1 Применить полиномиальную регрессию на том же датасете"
   ]
  },
  {
   "cell_type": "code",
   "execution_count": 10,
   "metadata": {},
   "outputs": [],
   "source": [
    "# 4.2 Найти наилучшую степень полинома\n"
   ]
  },
  {
   "cell_type": "code",
   "execution_count": 11,
   "metadata": {},
   "outputs": [],
   "source": [
    "# 4.3 сравнить f1-score регрессии и метода К-ближайших соседей"
   ]
  },
  {
   "cell_type": "code",
   "execution_count": 12,
   "metadata": {},
   "outputs": [],
   "source": [
    "# 4.4 В каких случаях лучше использовать полиномиальную регресию, а когда - метод К-следних"
   ]
  }
 ],
 "metadata": {
  "anaconda-cloud": {},
  "kernelspec": {
   "display_name": "ml_env",
   "language": "python",
   "name": "ml_env"
  },
  "language_info": {
   "codemirror_mode": {
    "name": "ipython",
    "version": 3
   },
   "file_extension": ".py",
   "mimetype": "text/x-python",
   "name": "python",
   "nbconvert_exporter": "python",
   "pygments_lexer": "ipython3",
   "version": "3.6.9"
  }
 },
 "nbformat": 4,
 "nbformat_minor": 2
}
